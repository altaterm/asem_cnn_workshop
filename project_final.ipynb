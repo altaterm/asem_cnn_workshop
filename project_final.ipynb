{
 "cells": [
  {
   "cell_type": "code",
   "execution_count": null,
   "metadata": {},
   "outputs": [
    {
     "name": "stderr",
     "output_type": "stream",
     "text": [
      "/home/amer/.local/lib/python3.10/site-packages/matplotlib/projections/__init__.py:63: UserWarning: Unable to import Axes3D. This may be due to multiple versions of Matplotlib being installed (e.g. as a system package and as a pip package). As a result, the 3D projection is not available.\n",
      "  warnings.warn(\"Unable to import Axes3D. This may be due to multiple versions of \"\n"
     ]
    }
   ],
   "source": [
    "import torch\n",
    "from torch import nn\n",
    "from torch.nn import functional as F\n",
    "import torchvision\n",
    "import matplotlib.pyplot as plt\n",
    "from time import time_ns\n",
    "from sklearn.metrics import confusion_matrix, classification_report, recall_score, precision_score, f1_score\n",
    "from torchsummary import summary\n"
   ]
  },
  {
   "cell_type": "code",
   "execution_count": null,
   "metadata": {},
   "outputs": [],
   "source": [
    "# shamelessly stolen from https://blog.csdn.net/weixin_42878111/article/details/134753295    i ❤️‍🔥️ csdn \n",
    "\n",
    "class ConvBlock(nn.Module):\n",
    "    def __init__(self, in_channels, out_channels, kernel_size, stride, padding):\n",
    "        super(ConvBlock, self).__init__()\n",
    "        self.conv = nn.Conv2d(in_channels, out_channels, kernel_size, stride, padding)\n",
    "        self.bn = nn.BatchNorm2d(out_channels)\n",
    "        self.relu = nn.ReLU(inplace=True)\n",
    "\n",
    "    def forward(self, x):\n",
    "        x = self.conv(x)\n",
    "        x = self.bn(x)\n",
    "        x = self.relu(x)\n",
    "        return x\n",
    "\n",
    "class SelfAttention(nn.Module):\n",
    "    def __init__(self, in_channels, out_channels):\n",
    "        super(SelfAttention, self).__init__()\n",
    "        self.query = nn.Conv2d(in_channels, out_channels, 1)\n",
    "        self.key = nn.Conv2d(in_channels, out_channels, 1)\n",
    "        self.value = nn.Conv2d(in_channels, out_channels, 1)\n",
    "\n",
    "    def forward(self, x):\n",
    "        q = self.query(x)\n",
    "        k = self.key(x)\n",
    "        v = self.value(x)\n",
    "\n",
    "        q = q.view(q.size(0), q.size(1), -1)\n",
    "        k = k.view(k.size(0), k.size(1), -1)\n",
    "        v = v.view(v.size(0), v.size(1), -1)\n",
    "\n",
    "        attention = F.softmax(torch.bmm(q.transpose(1, 2), k), dim=-1)\n",
    "        y = torch.bmm(v, attention)\n",
    "        y = y.view(x.size(0), x.size(1), x.size(2), x.size(3))\n",
    "\n",
    "        return y\n",
    "\n",
    "class CollaborativeAttentionModule(nn.Module):\n",
    "    def __init__(self, in_channels, out_channels):\n",
    "        super(CollaborativeAttentionModule, self).__init__()\n",
    "        self.conv_block = ConvBlock(in_channels, out_channels, 3, 1, 1)\n",
    "        self.self_attention = SelfAttention(out_channels, out_channels)\n",
    "\n",
    "    def forward(self, x):\n",
    "        x = self.conv_block(x)\n",
    "        x = x + self.self_attention(x)\n",
    "        return x\n",
    "\n",
    "class CoAtNet(nn.Module):\n",
    "    def __init__(self, num_classes):\n",
    "        super(CoAtNet, self).__init__()\n",
    "        self.stem = ConvBlock(3, 8, 7, 2, 3)\n",
    "        self.pool = nn.MaxPool2d(3, 2, 1)\n",
    "        self.cam1 = CollaborativeAttentionModule(8, 16)\n",
    "        self.cam2 = CollaborativeAttentionModule(16, 32)\n",
    "        self.cam3 = CollaborativeAttentionModule(32, 64)\n",
    "        self.cam4 = CollaborativeAttentionModule(64, 128)\n",
    "        self.avg_pool = nn.AdaptiveAvgPool2d((1, 1))\n",
    "        self.fc = nn.Linear(128, num_classes)\n",
    "\n",
    "    def forward(self, x):\n",
    "        x = self.stem(x)\n",
    "        x = self.pool(x)\n",
    "        x = self.cam1(x)\n",
    "        x = self.cam2(x)\n",
    "        x = self.cam3(x)\n",
    "        x = self.cam4(x)\n",
    "        x = self.avg_pool(x)\n",
    "        x = x.view(x.size(0), -1)\n",
    "        x = self.fc(x)\n",
    "        return x\n"
   ]
  },
  {
   "cell_type": "code",
   "execution_count": null,
   "metadata": {},
   "outputs": [
    {
     "name": "stdout",
     "output_type": "stream",
     "text": [
      "----------------------------------------------------------------\n",
      "        Layer (type)               Output Shape         Param #\n",
      "================================================================\n",
      "            Conv2d-1          [-1, 8, 112, 112]           1,184\n",
      "       BatchNorm2d-2          [-1, 8, 112, 112]              16\n",
      "              ReLU-3          [-1, 8, 112, 112]               0\n",
      "         ConvBlock-4          [-1, 8, 112, 112]               0\n",
      "         MaxPool2d-5            [-1, 8, 56, 56]               0\n",
      "            Conv2d-6           [-1, 16, 56, 56]           1,168\n",
      "       BatchNorm2d-7           [-1, 16, 56, 56]              32\n",
      "              ReLU-8           [-1, 16, 56, 56]               0\n",
      "         ConvBlock-9           [-1, 16, 56, 56]               0\n",
      "           Conv2d-10           [-1, 16, 56, 56]             272\n",
      "           Conv2d-11           [-1, 16, 56, 56]             272\n",
      "           Conv2d-12           [-1, 16, 56, 56]             272\n",
      "    SelfAttention-13           [-1, 16, 56, 56]               0\n",
      "CollaborativeAttentionModule-14           [-1, 16, 56, 56]               0\n",
      "           Conv2d-15           [-1, 32, 56, 56]           4,640\n",
      "      BatchNorm2d-16           [-1, 32, 56, 56]              64\n",
      "             ReLU-17           [-1, 32, 56, 56]               0\n",
      "        ConvBlock-18           [-1, 32, 56, 56]               0\n",
      "           Conv2d-19           [-1, 32, 56, 56]           1,056\n",
      "           Conv2d-20           [-1, 32, 56, 56]           1,056\n",
      "           Conv2d-21           [-1, 32, 56, 56]           1,056\n",
      "    SelfAttention-22           [-1, 32, 56, 56]               0\n",
      "CollaborativeAttentionModule-23           [-1, 32, 56, 56]               0\n",
      "           Conv2d-24           [-1, 64, 56, 56]          18,496\n",
      "      BatchNorm2d-25           [-1, 64, 56, 56]             128\n",
      "             ReLU-26           [-1, 64, 56, 56]               0\n",
      "        ConvBlock-27           [-1, 64, 56, 56]               0\n",
      "           Conv2d-28           [-1, 64, 56, 56]           4,160\n",
      "           Conv2d-29           [-1, 64, 56, 56]           4,160\n",
      "           Conv2d-30           [-1, 64, 56, 56]           4,160\n",
      "    SelfAttention-31           [-1, 64, 56, 56]               0\n",
      "CollaborativeAttentionModule-32           [-1, 64, 56, 56]               0\n",
      "           Conv2d-33          [-1, 128, 56, 56]          73,856\n",
      "      BatchNorm2d-34          [-1, 128, 56, 56]             256\n",
      "             ReLU-35          [-1, 128, 56, 56]               0\n",
      "        ConvBlock-36          [-1, 128, 56, 56]               0\n",
      "           Conv2d-37          [-1, 128, 56, 56]          16,512\n",
      "           Conv2d-38          [-1, 128, 56, 56]          16,512\n",
      "           Conv2d-39          [-1, 128, 56, 56]          16,512\n",
      "    SelfAttention-40          [-1, 128, 56, 56]               0\n",
      "CollaborativeAttentionModule-41          [-1, 128, 56, 56]               0\n",
      "AdaptiveAvgPool2d-42            [-1, 128, 1, 1]               0\n",
      "           Linear-43                    [-1, 3]             387\n",
      "================================================================\n",
      "Total params: 166,227\n",
      "Trainable params: 166,227\n",
      "Non-trainable params: 0\n",
      "----------------------------------------------------------------\n",
      "Input size (MB): 0.57\n",
      "Forward/backward pass size (MB): 54.93\n",
      "Params size (MB): 0.63\n",
      "Estimated Total Size (MB): 56.14\n",
      "----------------------------------------------------------------\n",
      "None\n"
     ]
    }
   ],
   "source": [
    "device = torch.device('cuda:0' if torch.cuda.is_available() else 'cpu')\n",
    "classes = ['adenocarcinoma', 'benign', 'squamous_cell_carcinoma']\n",
    "num_classes = len(classes)\n",
    "\n",
    "model = CoAtNet(num_classes)\n",
    "\n",
    "model.fc = nn.Linear(model.fc.in_features, num_classes)\n",
    "model = model.to(device)\n",
    "print(summary(model, (3, 224, 224)))"
   ]
  },
  {
   "cell_type": "code",
   "execution_count": 26,
   "metadata": {},
   "outputs": [],
   "source": [
    "for param in model.parameters():\n",
    "    param.requires_grad = False\n",
    "\n",
    "\n",
    "for param in model.fc.parameters():\n",
    "    param.requires_grad = True"
   ]
  },
  {
   "cell_type": "code",
   "execution_count": null,
   "metadata": {},
   "outputs": [],
   "source": [
    "# preprossing\n",
    "transform = torchvision.transforms.Compose([\n",
    "    torchvision.transforms.Resize((224, 224)),\n",
    "    torchvision.transforms.ToTensor(),\n",
    "    torchvision.transforms.Normalize(\n",
    "        mean=[0.5, 0.5, 0.5],\n",
    "        std=[0.5, 0.5, 0.5]\n",
    "    )\n",
    "])\n",
    "\n",
    "# load data\n",
    "data_path = '/home/amer/midsem_ai_course/lung_cancer'\n",
    "\n",
    "full_dataset = torchvision.datasets.ImageFolder(data_path, transform=transform)\n",
    "\n",
    "train_size = int(0.7 * len(full_dataset))\n",
    "test_size = len(full_dataset) - train_size\n",
    "\n",
    "train_dataset, test_dataset = torch.utils.data.random_split(full_dataset, [train_size, test_size])\n",
    "\n",
    "\n",
    "batch_size = 32\n",
    "train_loader = torch.utils.data.DataLoader(train_dataset, batch_size=batch_size, shuffle=True)\n",
    "test_loader = torch.utils.data.DataLoader(test_dataset, batch_size=batch_size, shuffle=True)"
   ]
  },
  {
   "cell_type": "code",
   "execution_count": null,
   "metadata": {},
   "outputs": [],
   "source": [
    "images, labels = train_dataset[0]\n",
    "\n",
    "\n",
    "plt.imshow(images.permute(1, 2, 0).numpy())\n",
    "# print(images[0])\n",
    "print(labels)\n"
   ]
  },
  {
   "cell_type": "code",
   "execution_count": 97,
   "metadata": {},
   "outputs": [],
   "source": [
    "criterion = torch.nn.CrossEntropyLoss()\n",
    "optimizer = torch.optim.Adam(model.parameters(), lr=0.1)"
   ]
  },
  {
   "cell_type": "code",
   "execution_count": 30,
   "metadata": {},
   "outputs": [],
   "source": [
    "# evualation function\n",
    "def evaluate(model, test_loader, device, print_matrices=False):\n",
    "    model.eval()\n",
    "    y_pred = []\n",
    "    y_true = []\n",
    "\n",
    "    with torch.no_grad():\n",
    "        for images, labels in test_loader:\n",
    "            images = images.to(device)\n",
    "            labels = labels.to(device)\n",
    "            predicted_output = model(images).to(device)\n",
    "            _, predicted = torch.max(predicted_output.data, 1)\n",
    "            y_pred.extend(predicted.cpu().numpy())\n",
    "            y_true.extend(labels.cpu().numpy())\n",
    "\n",
    "        recall = recall_score(y_true, y_pred, average='macro')\n",
    "        precision = precision_score(y_true, y_pred, average='macro')\n",
    "        f1 = f1_score(y_true, y_pred, average='macro')\n",
    "\n",
    "        if print_matrices:\n",
    "            print(confusion_matrix(y_true, y_pred))\n",
    "            print(classification_report(y_true, y_pred))\n",
    "\n",
    "        return recall, precision, f1"
   ]
  },
  {
   "cell_type": "code",
   "execution_count": null,
   "metadata": {},
   "outputs": [
    {
     "name": "stdout",
     "output_type": "stream",
     "text": [
      "Epoch [1/10], Loss: 0.2608, recall: 0.0000, precision: 0.0000, f1: 0.0000, Epoch Time:  135.470 s\n",
      "Epoch [2/10], Loss: 0.2610, recall: 0.0000, precision: 0.0000, f1: 0.0000, Epoch Time:  138.664 s\n",
      "Epoch [3/10], Loss: 0.2728, recall: 0.0000, precision: 0.0000, f1: 0.0000, Epoch Time:  136.215 s\n",
      "Epoch [4/10], Loss: 0.2526, recall: 0.0000, precision: 0.0000, f1: 0.0000, Epoch Time:  131.522 s\n",
      "Epoch [5/10], Loss: 0.2384, recall: 0.0000, precision: 0.0000, f1: 0.0000, Epoch Time:  131.795 s\n",
      "Epoch [6/10], Loss: 0.2473, recall: 0.0000, precision: 0.0000, f1: 0.0000, Epoch Time:  130.722 s\n",
      "Epoch [7/10], Loss: 0.2377, recall: 0.0000, precision: 0.0000, f1: 0.0000, Epoch Time:  131.036 s\n",
      "Epoch [8/10], Loss: 0.2497, recall: 0.0000, precision: 0.0000, f1: 0.0000, Epoch Time:  134.796 s\n",
      "Epoch [9/10], Loss: 0.2492, recall: 0.0000, precision: 0.0000, f1: 0.0000, Epoch Time:  133.829 s\n",
      "Epoch [10/10], Loss: 0.2530, recall: 0.0000, precision: 0.0000, f1: 0.0000, Epoch Time:  135.581 s\n"
     ]
    }
   ],
   "source": [
    "recall = f1 = precision = epoch_loss = 0.0\n",
    "loss_list = []\n",
    "training_loss = []\n",
    "num_epoch = 10\n",
    "for epoch in range(num_epoch):\n",
    "    model.train()\n",
    "    start = time_ns()\n",
    "    for i, (images, labels) in enumerate(train_loader):\n",
    "        images = images.to(device)\n",
    "        labels = torch.eye(3)[labels].to(device)\n",
    "\n",
    "        # forward pass\n",
    "        outputs = model(images).to(device)\n",
    "        loss = criterion(outputs, labels)\n",
    "\n",
    "        # backward pass\n",
    "        optimizer.zero_grad()\n",
    "        loss.backward()\n",
    "        optimizer.step()\n",
    "\n",
    "        # calculate loss\n",
    "        epoch_loss += loss.item()\n",
    "        loss_list.append(epoch_loss)\n",
    "        \n",
    "    avg_loss = epoch_loss / (i+1)\n",
    "    training_loss.append(avg_loss)\n",
    "    epoch_loss = 0.0\n",
    "\n",
    "    # recall, precision, f1 = evaluate(model, test_loader, device)\n",
    "\n",
    "    print(f'Epoch [{epoch+1}/{num_epoch}], Loss: {avg_loss:.4f}, recall: {recall:0.4f}, precision: {precision:0.4f}, f1: {f1:0.4f}, Epoch Time: {(time_ns()-start)/1e9 : 0.3f} s')"
   ]
  },
  {
   "cell_type": "code",
   "execution_count": 101,
   "metadata": {},
   "outputs": [
    {
     "name": "stdout",
     "output_type": "stream",
     "text": [
      "[0.3035203358186777, 0.2869129271039847, 0.2965641613698658, 0.3050301553494662, 0.27678161559450953, 0.26264182661623214, 0.27138974988623593, 0.2616860155231322, 0.26805854852574573, 0.269659255424622]\n"
     ]
    },
    {
     "data": {
      "text/plain": [
       "Text(0.5, 1.0, 'Training Loss')"
      ]
     },
     "execution_count": 101,
     "metadata": {},
     "output_type": "execute_result"
    },
    {
     "data": {
      "image/png": "[encoded data removed]",
      "text/plain": [
       "<Figure size 640x480 with 1 Axes>"
      ]
     },
     "metadata": {},
     "output_type": "display_data"
    }
   ],
   "source": [
    "print(training_loss)\n",
    "plt.plot(training_loss)\n",
    "plt.xlabel('Epoch')\n",
    "plt.ylabel('Loss')\n",
    "plt.title('Training Loss')\n"
   ]
  },
  {
   "cell_type": "code",
   "execution_count": 102,
   "metadata": {},
   "outputs": [
    {
     "name": "stdout",
     "output_type": "stream",
     "text": [
      "[[1270   17  225]\n",
      " [  20 1456    0]\n",
      " [ 105    1 1406]]\n",
      "              precision    recall  f1-score   support\n",
      "\n",
      "           0       0.91      0.84      0.87      1512\n",
      "           1       0.99      0.99      0.99      1476\n",
      "           2       0.86      0.93      0.89      1512\n",
      "\n",
      "    accuracy                           0.92      4500\n",
      "   macro avg       0.92      0.92      0.92      4500\n",
      "weighted avg       0.92      0.92      0.92      4500\n",
      "\n"
     ]
    },
    {
     "data": {
      "text/plain": [
       "(np.float64(0.9187637114466383),\n",
       " np.float64(0.9200768065753673),\n",
       " np.float64(0.918519419732676))"
      ]
     },
     "execution_count": 102,
     "metadata": {},
     "output_type": "execute_result"
    }
   ],
   "source": [
    "evaluate(model, test_loader, device, print_matrices=True)"
   ]
  },
  {
   "cell_type": "code",
   "execution_count": null,
   "metadata": {},
   "outputs": [],
   "source": [
    "torch.save(model.state_dict(), 'modelv3.pth')"
   ]
  }
 ],
 "metadata": {
  "kernelspec": {
   "display_name": "Python 3",
   "language": "python",
   "name": "python3"
  },
  "language_info": {
   "codemirror_mode": {
    "name": "ipython",
    "version": 3
   },
   "file_extension": ".py",
   "mimetype": "text/x-python",
   "name": "python",
   "nbconvert_exporter": "python",
   "pygments_lexer": "ipython3",
   "version": "3.10.12"
  }
 },
 "nbformat": 4,
 "nbformat_minor": 2
}
